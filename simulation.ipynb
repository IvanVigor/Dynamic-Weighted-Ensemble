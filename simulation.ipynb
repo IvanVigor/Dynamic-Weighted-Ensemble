{
 "cells": [
  {
   "cell_type": "code",
   "execution_count": 7,
   "id": "923dbc25",
   "metadata": {},
   "outputs": [],
   "source": [
    "from src import *"
   ]
  },
  {
   "cell_type": "code",
   "execution_count": 11,
   "id": "a2a2475a",
   "metadata": {},
   "outputs": [],
   "source": [
    "import pandas as pd\n",
    "import numpy as np\n",
    "import seaborn as sns\n",
    "\n",
    "def euclidean(point, data):\n",
    "    return np.sqrt(np.sum((data - point)**2, axis=1))\n",
    "\n",
    "def w_inverse_LMAE(lmae):\n",
    "    \"\"\"\n",
    "    Inverse Local MAE\n",
    "    \"\"\"\n",
    "    return 1/lmae\n",
    "\n",
    "def w_inverse_log_LMAE(residuals):\n",
    "    \"\"\"\n",
    "    Inverse Log Local MAE\n",
    "    \"\"\"\n",
    "    np.log(max(abs(residuals))/mean_absolute_error(residuals))\n",
    "\n",
    "\n",
    "def mean_absolute_error(actual, predicted):\n",
    "    \"\"\"\n",
    "    Local Mean Absolute Error (LMAE)\n",
    "    \"\"\"\n",
    "    return np.mean(np.abs(predicted - actual))\n",
    "\n",
    "\n",
    "def root_mean_squared_error(actual, predicted):\n",
    "    \"\"\"\n",
    "    Local Root Mean Squared Error (LRMSE)\n",
    "    \"\"\"\n",
    "    return np.sqrt(np.mean((predicted - actual)**2))\n",
    "\n",
    "\n",
    "def weighted_mean_absolute_error(actual, predicted, weights):\n",
    "    \"\"\"\n",
    "    Weighted Local Mean Absolute Error (WLMAE)\n",
    "    \"\"\"\n",
    "    return np.average(np.abs(predicted - actual), weights=weights)"
   ]
  },
  {
   "cell_type": "code",
   "execution_count": 30,
   "id": "6bb3c6e2",
   "metadata": {},
   "outputs": [],
   "source": [
    "import pandas as pd\n",
    "import numpy as np\n",
    "\n",
    "# A function which return the most similar elements to a point\n",
    "def get_k_nearest_neighbors(point, data, k, metric):\n",
    "    distances = metric(point, data)\n",
    "    return distances.argsort()[:k]\n",
    "\n",
    "def get_k_nearest_neighbors_weights(point, data, k, metric, weights):\n",
    "    distances = metric(point, data)\n",
    "    return distances.argsort()[:k], weights(distances)\n",
    "\n",
    "# A function that predicts the value of a point given many different models provided as input using the inverse of the LMAE as weights\n",
    "def predict_inverse_LMAE(point, data, k, metric):\n",
    "    neighbors = get_k_nearest_neighbors(point, data, k, metric)\n",
    "    return np.average(data[neighbors], axis=0, weights=w_inverse_LMAE)\n",
    "\n",
    "# A function that evalaute the error bias associated to each machine learning forecast diveded by the number of forecasts\n",
    "def error_bias(data, k, metric):\n",
    "    error_bias = []\n",
    "    for i in range(len(data)):\n",
    "        neighbors = get_k_nearest_neighbors(data[i], data, k, metric)\n",
    "        error_bias.append(np.sum(data[neighbors] - data[i])/k)\n",
    "    return error_bias\n",
    "\n",
    "class KNeighborsSpotter():\n",
    "    def __init__(self, k=5, dist_metric=euclidean):\n",
    "        self.k = k\n",
    "        self.dist_metric = dist_metric\n",
    "        \n",
    "    def fit(self, X_val, y_val):\n",
    "        self.X_val = X_val\n",
    "        self.y_val = y_val\n",
    "\n",
    "    def find_similar_neighbors(self, x):\n",
    "\n",
    "        distances = self.dist_metric(x, self.X_val)\n",
    "        y_sorted = [y for _, y in sorted(zip(distances, self.y_val, self.X_val))]\n",
    "        return y_sorted[:self.k]\n",
    "\n",
    "    def predict(self, X_test, pred_columns, target_column, weight_function=w_inverse_LMAE, bias=False):\n",
    "\n",
    "        weights = []\n",
    "        biases = []\n",
    "\n",
    "        for x in X_test.iterrows():\n",
    "            neighbors = self.find_similar_neighbors(x)\n",
    "            \n",
    "            for column in pred_columns:\n",
    "                preds_val = neighbors[column]\n",
    "                target_val = neighbors[target_column]\n",
    "                w = weight_function(target_val, preds_val)\n",
    "                weights.append(w)\n",
    "                biases = (target_val - preds_val) / len(target_val)\n",
    "        if bias:\n",
    "            return (X_test[pred_columns] * np.array(weights).T) + biases/ sum(weights)\n",
    "        else:\n",
    "            return (X_test[pred_columns]*np.array(weights).T) / sum(weights)"
   ]
  },
  {
   "cell_type": "code",
   "execution_count": 14,
   "id": "af573619",
   "metadata": {},
   "outputs": [],
   "source": [
    "import numpy as np"
   ]
  },
  {
   "cell_type": "code",
   "execution_count": 15,
   "id": "f4f9189d",
   "metadata": {},
   "outputs": [],
   "source": [
    "from sklearn.preprocessing import StandardScaler\n",
    "from sklearn.linear_model import RidgeCV\n",
    "from sklearn.pipeline import make_pipeline\n",
    "from sklearn.model_selection import train_test_split\n",
    "from sklearn.datasets import fetch_california_housing\n",
    "from sklearn.tree import DecisionTreeRegressor\n",
    "import numpy as np\n",
    "\n",
    "california_housing = fetch_california_housing(as_frame=True)\n",
    "\n",
    "training = california_housing.frame[california_housing.feature_names]\n",
    "target = california_housing.frame[california_housing.target_names]\n",
    "\n",
    "X_train, X_test, y_train, y_test = train_test_split(training, target, random_state=1234, test_size=0.20)\n",
    "X_train, X_validation, y_train, y_validation = train_test_split(X_train, y_train, random_state=1234, test_size=0.20)"
   ]
  },
  {
   "cell_type": "code",
   "execution_count": 27,
   "id": "a49f1f8a",
   "metadata": {},
   "outputs": [],
   "source": [
    "alphas = np.logspace(-3, 1, num=30)\n",
    "model = make_pipeline(StandardScaler(), \n",
    "                      RidgeCV(alphas=alphas))\n",
    "\n",
    "tree_one = DecisionTreeRegressor(max_depth=3, random_state=0)\n",
    "tree_two = DecisionTreeRegressor(max_depth=10, random_state=0)\n",
    "\n",
    "model = make_pipeline(StandardScaler(), \n",
    "                      RidgeCV(alphas=alphas))\n",
    "\n",
    "tree_one.fit(X_train, y_train)\n",
    "tree_two.fit(X_train, y_train)\n",
    "\n",
    "X_validation[\"one_preds\"]=tree_one.predict(X_validation[california_housing.feature_names])\n",
    "X_validation[\"two_preds\"]=tree_two.predict(X_validation[california_housing.feature_names])"
   ]
  },
  {
   "cell_type": "code",
   "execution_count": 34,
   "id": "827781ae",
   "metadata": {},
   "outputs": [],
   "source": [
    "ensemble = KNeighborsSpotter(5)\n",
    "ensemble.fit(X_validation, y_validation)"
   ]
  },
  {
   "cell_type": "code",
   "execution_count": 35,
   "id": "8f7892b8",
   "metadata": {},
   "outputs": [
    {
     "ename": "TypeError",
     "evalue": "'KNeighborsSpotter' object is not callable",
     "output_type": "error",
     "traceback": [
      "\u001b[0;31m---------------------------------------------------------------------------\u001b[0m",
      "\u001b[0;31mTypeError\u001b[0m                                 Traceback (most recent call last)",
      "Cell \u001b[0;32mIn [35], line 1\u001b[0m\n\u001b[0;32m----> 1\u001b[0m ensemble(X_test, [\u001b[38;5;124m\"\u001b[39m\u001b[38;5;124mone_preds\u001b[39m\u001b[38;5;124m\"\u001b[39m, \u001b[38;5;124m\"\u001b[39m\u001b[38;5;124mtwo_preds\u001b[39m\u001b[38;5;124m\"\u001b[39m], [california_housing\u001b[38;5;241m.\u001b[39mtarget_names])\n",
      "\u001b[0;31mTypeError\u001b[0m: 'KNeighborsSpotter' object is not callable"
     ]
    }
   ],
   "source": [
    "ensemble(X_test, [\"one_preds\", \"two_preds\"], [california_housing.target_names])"
   ]
  },
  {
   "cell_type": "code",
   "execution_count": null,
   "id": "86b1153b",
   "metadata": {},
   "outputs": [],
   "source": []
  },
  {
   "cell_type": "code",
   "execution_count": null,
   "id": "f65122c2",
   "metadata": {},
   "outputs": [],
   "source": []
  },
  {
   "cell_type": "code",
   "execution_count": null,
   "id": "cf5c3666",
   "metadata": {},
   "outputs": [],
   "source": []
  },
  {
   "cell_type": "code",
   "execution_count": null,
   "id": "d84cd9b2",
   "metadata": {},
   "outputs": [],
   "source": []
  },
  {
   "cell_type": "code",
   "execution_count": null,
   "id": "d0f50065",
   "metadata": {},
   "outputs": [],
   "source": []
  }
 ],
 "metadata": {
  "kernelspec": {
   "display_name": "Python 3 (ipykernel)",
   "language": "python",
   "name": "python3"
  },
  "language_info": {
   "codemirror_mode": {
    "name": "ipython",
    "version": 3
   },
   "file_extension": ".py",
   "mimetype": "text/x-python",
   "name": "python",
   "nbconvert_exporter": "python",
   "pygments_lexer": "ipython3",
   "version": "3.8.9"
  }
 },
 "nbformat": 4,
 "nbformat_minor": 5
}
